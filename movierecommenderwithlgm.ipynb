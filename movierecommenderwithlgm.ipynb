{
 "cells": [
  {
   "cell_type": "markdown",
   "id": "0c1dfb58",
   "metadata": {
    "papermill": {
     "duration": 0.00872,
     "end_time": "2024-03-18T15:00:28.312661",
     "exception": false,
     "start_time": "2024-03-18T15:00:28.303941",
     "status": "completed"
    },
    "tags": []
   },
   "source": [
    "# Movie Personal Recommend w/LGBM Ranker"
   ]
  },
  {
   "cell_type": "code",
   "execution_count": 1,
   "id": "7cc600c5",
   "metadata": {
    "execution": {
     "iopub.execute_input": "2024-03-18T15:00:28.345242Z",
     "iopub.status.busy": "2024-03-18T15:00:28.344887Z",
     "iopub.status.idle": "2024-03-18T15:00:34.304984Z",
     "shell.execute_reply": "2024-03-18T15:00:34.304089Z"
    },
    "papermill": {
     "duration": 5.971343,
     "end_time": "2024-03-18T15:00:34.307415",
     "exception": false,
     "start_time": "2024-03-18T15:00:28.336072",
     "status": "completed"
    },
    "tags": []
   },
   "outputs": [
    {
     "name": "stderr",
     "output_type": "stream",
     "text": [
      "/opt/conda/lib/python3.10/site-packages/dask/dataframe/_pyarrow_compat.py:23: UserWarning: You are using pyarrow version 11.0.0 which is known to be insecure. See https://www.cve.org/CVERecord?id=CVE-2023-47248 for further details. Please upgrade to pyarrow>=14.0.1 or install pyarrow-hotfix to patch your current version.\n",
      "  warnings.warn(\n"
     ]
    }
   ],
   "source": [
    "import numpy as np\n",
    "import pandas as pd\n",
    "import random\n",
    "from sklearn.model_selection import train_test_split\n",
    "from sklearn.metrics import accuracy_score\n",
    "from sklearn.preprocessing import LabelEncoder\n",
    "#import lightgbm as lgb\n",
    "from lightgbm.sklearn import LGBMRanker\n",
    "import matplotlib.pyplot as plt"
   ]
  },
  {
   "cell_type": "code",
   "execution_count": 2,
   "id": "3f9aa81a",
   "metadata": {
    "execution": {
     "iopub.execute_input": "2024-03-18T15:00:34.327285Z",
     "iopub.status.busy": "2024-03-18T15:00:34.326981Z",
     "iopub.status.idle": "2024-03-18T15:01:17.457403Z",
     "shell.execute_reply": "2024-03-18T15:01:17.456474Z"
    },
    "papermill": {
     "duration": 43.143169,
     "end_time": "2024-03-18T15:01:17.459719",
     "exception": false,
     "start_time": "2024-03-18T15:00:34.316550",
     "status": "completed"
    },
    "tags": []
   },
   "outputs": [
    {
     "data": {
      "text/html": [
       "<div>\n",
       "<style scoped>\n",
       "    .dataframe tbody tr th:only-of-type {\n",
       "        vertical-align: middle;\n",
       "    }\n",
       "\n",
       "    .dataframe tbody tr th {\n",
       "        vertical-align: top;\n",
       "    }\n",
       "\n",
       "    .dataframe thead th {\n",
       "        text-align: right;\n",
       "    }\n",
       "</style>\n",
       "<table border=\"1\" class=\"dataframe\">\n",
       "  <thead>\n",
       "    <tr style=\"text-align: right;\">\n",
       "      <th></th>\n",
       "      <th>userId</th>\n",
       "      <th>movieId</th>\n",
       "      <th>rating</th>\n",
       "      <th>timestamp</th>\n",
       "    </tr>\n",
       "  </thead>\n",
       "  <tbody>\n",
       "    <tr>\n",
       "      <th>0</th>\n",
       "      <td>1</td>\n",
       "      <td>296</td>\n",
       "      <td>5.0</td>\n",
       "      <td>1147880044</td>\n",
       "    </tr>\n",
       "    <tr>\n",
       "      <th>1</th>\n",
       "      <td>1</td>\n",
       "      <td>306</td>\n",
       "      <td>3.5</td>\n",
       "      <td>1147868817</td>\n",
       "    </tr>\n",
       "    <tr>\n",
       "      <th>2</th>\n",
       "      <td>1</td>\n",
       "      <td>307</td>\n",
       "      <td>5.0</td>\n",
       "      <td>1147868828</td>\n",
       "    </tr>\n",
       "  </tbody>\n",
       "</table>\n",
       "</div>"
      ],
      "text/plain": [
       "   userId  movieId  rating   timestamp\n",
       "0       1      296     5.0  1147880044\n",
       "1       1      306     3.5  1147868817\n",
       "2       1      307     5.0  1147868828"
      ]
     },
     "metadata": {},
     "output_type": "display_data"
    },
    {
     "name": "stdout",
     "output_type": "stream",
     "text": [
      "25000095\n"
     ]
    }
   ],
   "source": [
    "df = pd.read_csv('/kaggle/input/movie-recommendation-system/ratings.csv')\n",
    "display(df[0:3])\n",
    "dflen=len(df)\n",
    "print(dflen)\n",
    "N=list(range(dflen))\n",
    "random.seed(2024)\n",
    "random.shuffle(N)\n",
    "df=df.iloc[N[0:3000]]"
   ]
  },
  {
   "cell_type": "code",
   "execution_count": 3,
   "id": "6ce85108",
   "metadata": {
    "execution": {
     "iopub.execute_input": "2024-03-18T15:01:17.478444Z",
     "iopub.status.busy": "2024-03-18T15:01:17.477891Z",
     "iopub.status.idle": "2024-03-18T15:01:17.595824Z",
     "shell.execute_reply": "2024-03-18T15:01:17.594934Z"
    },
    "papermill": {
     "duration": 0.129093,
     "end_time": "2024-03-18T15:01:17.597733",
     "exception": false,
     "start_time": "2024-03-18T15:01:17.468640",
     "status": "completed"
    },
    "tags": []
   },
   "outputs": [
    {
     "data": {
      "text/html": [
       "<div>\n",
       "<style scoped>\n",
       "    .dataframe tbody tr th:only-of-type {\n",
       "        vertical-align: middle;\n",
       "    }\n",
       "\n",
       "    .dataframe tbody tr th {\n",
       "        vertical-align: top;\n",
       "    }\n",
       "\n",
       "    .dataframe thead th {\n",
       "        text-align: right;\n",
       "    }\n",
       "</style>\n",
       "<table border=\"1\" class=\"dataframe\">\n",
       "  <thead>\n",
       "    <tr style=\"text-align: right;\">\n",
       "      <th></th>\n",
       "      <th>movieId</th>\n",
       "      <th>title</th>\n",
       "      <th>genres</th>\n",
       "    </tr>\n",
       "  </thead>\n",
       "  <tbody>\n",
       "    <tr>\n",
       "      <th>0</th>\n",
       "      <td>1</td>\n",
       "      <td>Toy Story (1995)</td>\n",
       "      <td>Adventure|Animation|Children|Comedy|Fantasy</td>\n",
       "    </tr>\n",
       "    <tr>\n",
       "      <th>1</th>\n",
       "      <td>2</td>\n",
       "      <td>Jumanji (1995)</td>\n",
       "      <td>Adventure|Children|Fantasy</td>\n",
       "    </tr>\n",
       "    <tr>\n",
       "      <th>2</th>\n",
       "      <td>3</td>\n",
       "      <td>Grumpier Old Men (1995)</td>\n",
       "      <td>Comedy|Romance</td>\n",
       "    </tr>\n",
       "  </tbody>\n",
       "</table>\n",
       "</div>"
      ],
      "text/plain": [
       "   movieId                    title  \\\n",
       "0        1         Toy Story (1995)   \n",
       "1        2           Jumanji (1995)   \n",
       "2        3  Grumpier Old Men (1995)   \n",
       "\n",
       "                                        genres  \n",
       "0  Adventure|Animation|Children|Comedy|Fantasy  \n",
       "1                   Adventure|Children|Fantasy  \n",
       "2                               Comedy|Romance  "
      ]
     },
     "metadata": {},
     "output_type": "display_data"
    },
    {
     "name": "stdout",
     "output_type": "stream",
     "text": [
      "['movieId', 'title', 'genres']\n"
     ]
    }
   ],
   "source": [
    "movie=pd.read_csv('/kaggle/input/movie-recommendation-system/movies.csv')\n",
    "display(movie[0:3])\n",
    "print(movie.columns.tolist())\n"
   ]
  },
  {
   "cell_type": "code",
   "execution_count": 4,
   "id": "83d0bfdb",
   "metadata": {
    "execution": {
     "iopub.execute_input": "2024-03-18T15:01:17.616158Z",
     "iopub.status.busy": "2024-03-18T15:01:17.615887Z",
     "iopub.status.idle": "2024-03-18T15:01:17.643705Z",
     "shell.execute_reply": "2024-03-18T15:01:17.642851Z"
    },
    "papermill": {
     "duration": 0.039044,
     "end_time": "2024-03-18T15:01:17.645608",
     "exception": false,
     "start_time": "2024-03-18T15:01:17.606564",
     "status": "completed"
    },
    "tags": []
   },
   "outputs": [],
   "source": [
    "#anime_id to name mapping \n",
    "mapping = dict(zip(movie['movieId'], movie['title']))"
   ]
  },
  {
   "cell_type": "code",
   "execution_count": 5,
   "id": "e1de2918",
   "metadata": {
    "execution": {
     "iopub.execute_input": "2024-03-18T15:01:17.664537Z",
     "iopub.status.busy": "2024-03-18T15:01:17.664256Z",
     "iopub.status.idle": "2024-03-18T15:01:17.694242Z",
     "shell.execute_reply": "2024-03-18T15:01:17.693354Z"
    },
    "papermill": {
     "duration": 0.041291,
     "end_time": "2024-03-18T15:01:17.696257",
     "exception": false,
     "start_time": "2024-03-18T15:01:17.654966",
     "status": "completed"
    },
    "tags": []
   },
   "outputs": [
    {
     "data": {
      "text/html": [
       "<div>\n",
       "<style scoped>\n",
       "    .dataframe tbody tr th:only-of-type {\n",
       "        vertical-align: middle;\n",
       "    }\n",
       "\n",
       "    .dataframe tbody tr th {\n",
       "        vertical-align: top;\n",
       "    }\n",
       "\n",
       "    .dataframe thead th {\n",
       "        text-align: right;\n",
       "    }\n",
       "</style>\n",
       "<table border=\"1\" class=\"dataframe\">\n",
       "  <thead>\n",
       "    <tr style=\"text-align: right;\">\n",
       "      <th></th>\n",
       "      <th>userId</th>\n",
       "      <th>movieId</th>\n",
       "      <th>rating</th>\n",
       "      <th>timestamp</th>\n",
       "      <th>title</th>\n",
       "      <th>genres</th>\n",
       "    </tr>\n",
       "  </thead>\n",
       "  <tbody>\n",
       "    <tr>\n",
       "      <th>0</th>\n",
       "      <td>14635</td>\n",
       "      <td>590</td>\n",
       "      <td>3.0</td>\n",
       "      <td>843583397</td>\n",
       "      <td>Dances with Wolves (1990)</td>\n",
       "      <td>Adventure|Drama|Western</td>\n",
       "    </tr>\n",
       "    <tr>\n",
       "      <th>1</th>\n",
       "      <td>162508</td>\n",
       "      <td>47634</td>\n",
       "      <td>2.0</td>\n",
       "      <td>1365194093</td>\n",
       "      <td>36 Quai des Orfèvres (Department 36) (2004)</td>\n",
       "      <td>Action|Crime|Drama|Thriller</td>\n",
       "    </tr>\n",
       "    <tr>\n",
       "      <th>2</th>\n",
       "      <td>36413</td>\n",
       "      <td>440</td>\n",
       "      <td>3.0</td>\n",
       "      <td>839512088</td>\n",
       "      <td>Dave (1993)</td>\n",
       "      <td>Comedy|Romance</td>\n",
       "    </tr>\n",
       "    <tr>\n",
       "      <th>3</th>\n",
       "      <td>59973</td>\n",
       "      <td>69306</td>\n",
       "      <td>2.5</td>\n",
       "      <td>1272971505</td>\n",
       "      <td>Taking of Pelham 1 2 3, The (2009)</td>\n",
       "      <td>Crime|Drama|Thriller</td>\n",
       "    </tr>\n",
       "    <tr>\n",
       "      <th>4</th>\n",
       "      <td>50769</td>\n",
       "      <td>141</td>\n",
       "      <td>3.0</td>\n",
       "      <td>1449797467</td>\n",
       "      <td>Birdcage, The (1996)</td>\n",
       "      <td>Comedy</td>\n",
       "    </tr>\n",
       "    <tr>\n",
       "      <th>...</th>\n",
       "      <td>...</td>\n",
       "      <td>...</td>\n",
       "      <td>...</td>\n",
       "      <td>...</td>\n",
       "      <td>...</td>\n",
       "      <td>...</td>\n",
       "    </tr>\n",
       "    <tr>\n",
       "      <th>2995</th>\n",
       "      <td>75655</td>\n",
       "      <td>367</td>\n",
       "      <td>4.0</td>\n",
       "      <td>834345062</td>\n",
       "      <td>Mask, The (1994)</td>\n",
       "      <td>Action|Comedy|Crime|Fantasy</td>\n",
       "    </tr>\n",
       "    <tr>\n",
       "      <th>2996</th>\n",
       "      <td>21528</td>\n",
       "      <td>590</td>\n",
       "      <td>4.0</td>\n",
       "      <td>1080222243</td>\n",
       "      <td>Dances with Wolves (1990)</td>\n",
       "      <td>Adventure|Drama|Western</td>\n",
       "    </tr>\n",
       "    <tr>\n",
       "      <th>2997</th>\n",
       "      <td>46055</td>\n",
       "      <td>2770</td>\n",
       "      <td>4.0</td>\n",
       "      <td>941787655</td>\n",
       "      <td>Bowfinger (1999)</td>\n",
       "      <td>Comedy</td>\n",
       "    </tr>\n",
       "    <tr>\n",
       "      <th>2998</th>\n",
       "      <td>148738</td>\n",
       "      <td>6754</td>\n",
       "      <td>4.0</td>\n",
       "      <td>1081024320</td>\n",
       "      <td>Underworld (2003)</td>\n",
       "      <td>Action|Fantasy|Horror</td>\n",
       "    </tr>\n",
       "    <tr>\n",
       "      <th>2999</th>\n",
       "      <td>150198</td>\n",
       "      <td>1954</td>\n",
       "      <td>5.0</td>\n",
       "      <td>1333121742</td>\n",
       "      <td>Rocky (1976)</td>\n",
       "      <td>Drama</td>\n",
       "    </tr>\n",
       "  </tbody>\n",
       "</table>\n",
       "<p>3000 rows × 6 columns</p>\n",
       "</div>"
      ],
      "text/plain": [
       "      userId  movieId  rating   timestamp  \\\n",
       "0      14635      590     3.0   843583397   \n",
       "1     162508    47634     2.0  1365194093   \n",
       "2      36413      440     3.0   839512088   \n",
       "3      59973    69306     2.5  1272971505   \n",
       "4      50769      141     3.0  1449797467   \n",
       "...      ...      ...     ...         ...   \n",
       "2995   75655      367     4.0   834345062   \n",
       "2996   21528      590     4.0  1080222243   \n",
       "2997   46055     2770     4.0   941787655   \n",
       "2998  148738     6754     4.0  1081024320   \n",
       "2999  150198     1954     5.0  1333121742   \n",
       "\n",
       "                                            title                       genres  \n",
       "0                       Dances with Wolves (1990)      Adventure|Drama|Western  \n",
       "1     36 Quai des Orfèvres (Department 36) (2004)  Action|Crime|Drama|Thriller  \n",
       "2                                     Dave (1993)               Comedy|Romance  \n",
       "3              Taking of Pelham 1 2 3, The (2009)         Crime|Drama|Thriller  \n",
       "4                            Birdcage, The (1996)                       Comedy  \n",
       "...                                           ...                          ...  \n",
       "2995                             Mask, The (1994)  Action|Comedy|Crime|Fantasy  \n",
       "2996                    Dances with Wolves (1990)      Adventure|Drama|Western  \n",
       "2997                             Bowfinger (1999)                       Comedy  \n",
       "2998                            Underworld (2003)        Action|Fantasy|Horror  \n",
       "2999                                 Rocky (1976)                        Drama  \n",
       "\n",
       "[3000 rows x 6 columns]"
      ]
     },
     "metadata": {},
     "output_type": "display_data"
    }
   ],
   "source": [
    "df=df.merge(movie,on='movieId',how='left')\n",
    "display(df)"
   ]
  },
  {
   "cell_type": "code",
   "execution_count": 6,
   "id": "69d7c575",
   "metadata": {
    "execution": {
     "iopub.execute_input": "2024-03-18T15:01:17.715414Z",
     "iopub.status.busy": "2024-03-18T15:01:17.715156Z",
     "iopub.status.idle": "2024-03-18T15:01:19.061220Z",
     "shell.execute_reply": "2024-03-18T15:01:19.060347Z"
    },
    "papermill": {
     "duration": 1.357733,
     "end_time": "2024-03-18T15:01:19.063238",
     "exception": false,
     "start_time": "2024-03-18T15:01:17.705505",
     "status": "completed"
    },
    "tags": []
   },
   "outputs": [
    {
     "data": {
      "image/png": "[encoded data removed]",
      "text/plain": [
       "<Figure size 640x480 with 1 Axes>"
      ]
     },
     "metadata": {},
     "output_type": "display_data"
    }
   ],
   "source": [
    "plt.scatter(df['userId'], df['rating'])\n",
    "plt.xlabel('userId')\n",
    "plt.ylabel('rating')\n",
    "plt.title('UserId vs Rating')\n",
    "plt.show()"
   ]
  },
  {
   "cell_type": "code",
   "execution_count": 7,
   "id": "ade555ac",
   "metadata": {
    "execution": {
     "iopub.execute_input": "2024-03-18T15:01:19.083728Z",
     "iopub.status.busy": "2024-03-18T15:01:19.083194Z",
     "iopub.status.idle": "2024-03-18T15:01:19.093357Z",
     "shell.execute_reply": "2024-03-18T15:01:19.092508Z"
    },
    "papermill": {
     "duration": 0.022225,
     "end_time": "2024-03-18T15:01:19.095210",
     "exception": false,
     "start_time": "2024-03-18T15:01:19.072985",
     "status": "completed"
    },
    "tags": []
   },
   "outputs": [
    {
     "data": {
      "text/plain": [
       "movieId\n",
       "2858      14\n",
       "296       13\n",
       "2716      12\n",
       "110       11\n",
       "593       11\n",
       "          ..\n",
       "3          1\n",
       "88         1\n",
       "74688      1\n",
       "140174     1\n",
       "58301      1\n",
       "Name: count, Length: 1768, dtype: int64"
      ]
     },
     "execution_count": 7,
     "metadata": {},
     "output_type": "execute_result"
    }
   ],
   "source": [
    "df['movieId'].value_counts()"
   ]
  },
  {
   "cell_type": "code",
   "execution_count": 8,
   "id": "996a4e54",
   "metadata": {
    "execution": {
     "iopub.execute_input": "2024-03-18T15:01:19.115484Z",
     "iopub.status.busy": "2024-03-18T15:01:19.115193Z",
     "iopub.status.idle": "2024-03-18T15:01:19.121637Z",
     "shell.execute_reply": "2024-03-18T15:01:19.120689Z"
    },
    "papermill": {
     "duration": 0.018893,
     "end_time": "2024-03-18T15:01:19.123720",
     "exception": false,
     "start_time": "2024-03-18T15:01:19.104827",
     "status": "completed"
    },
    "tags": []
   },
   "outputs": [
    {
     "name": "stdout",
     "output_type": "stream",
     "text": [
      "[3.0, 2.0, 2.5, 4.0, 5.0, 3.5, 0.5, 1.5, 4.5, 1.0]\n",
      "2913\n",
      "1768\n"
     ]
    }
   ],
   "source": [
    "print(df['rating'].unique().tolist())\n",
    "print(df['userId'].nunique())\n",
    "print(df['movieId'].nunique())"
   ]
  },
  {
   "cell_type": "code",
   "execution_count": 9,
   "id": "12e1fb82",
   "metadata": {
    "execution": {
     "iopub.execute_input": "2024-03-18T15:01:19.144304Z",
     "iopub.status.busy": "2024-03-18T15:01:19.144046Z",
     "iopub.status.idle": "2024-03-18T15:01:19.148386Z",
     "shell.execute_reply": "2024-03-18T15:01:19.147482Z"
    },
    "papermill": {
     "duration": 0.016533,
     "end_time": "2024-03-18T15:01:19.150248",
     "exception": false,
     "start_time": "2024-03-18T15:01:19.133715",
     "status": "completed"
    },
    "tags": []
   },
   "outputs": [
    {
     "name": "stdout",
     "output_type": "stream",
     "text": [
      "['userId', 'movieId', 'rating', 'timestamp', 'title', 'genres']\n"
     ]
    }
   ],
   "source": [
    "print(df.columns.tolist())"
   ]
  },
  {
   "cell_type": "code",
   "execution_count": 10,
   "id": "fd26f0bb",
   "metadata": {
    "execution": {
     "iopub.execute_input": "2024-03-18T15:01:19.170453Z",
     "iopub.status.busy": "2024-03-18T15:01:19.170188Z",
     "iopub.status.idle": "2024-03-18T15:01:19.174103Z",
     "shell.execute_reply": "2024-03-18T15:01:19.173242Z"
    },
    "papermill": {
     "duration": 0.016091,
     "end_time": "2024-03-18T15:01:19.175938",
     "exception": false,
     "start_time": "2024-03-18T15:01:19.159847",
     "status": "completed"
    },
    "tags": []
   },
   "outputs": [],
   "source": [
    "feature_cols=['userId', 'movieId']\n",
    "target= 'rating'    # personal rating data\n",
    "group_col='userId'  # as only one personal item"
   ]
  },
  {
   "cell_type": "code",
   "execution_count": 11,
   "id": "02f38c68",
   "metadata": {
    "execution": {
     "iopub.execute_input": "2024-03-18T15:01:19.196197Z",
     "iopub.status.busy": "2024-03-18T15:01:19.195959Z",
     "iopub.status.idle": "2024-03-18T15:01:19.200452Z",
     "shell.execute_reply": "2024-03-18T15:01:19.199637Z"
    },
    "papermill": {
     "duration": 0.016728,
     "end_time": "2024-03-18T15:01:19.202291",
     "exception": false,
     "start_time": "2024-03-18T15:01:19.185563",
     "status": "completed"
    },
    "tags": []
   },
   "outputs": [],
   "source": [
    "dataX=df[feature_cols]\n",
    "dataY=df[target]"
   ]
  },
  {
   "cell_type": "code",
   "execution_count": 12,
   "id": "528c48d5",
   "metadata": {
    "execution": {
     "iopub.execute_input": "2024-03-18T15:01:19.222301Z",
     "iopub.status.busy": "2024-03-18T15:01:19.222065Z",
     "iopub.status.idle": "2024-03-18T15:01:19.226140Z",
     "shell.execute_reply": "2024-03-18T15:01:19.225345Z"
    },
    "papermill": {
     "duration": 0.016224,
     "end_time": "2024-03-18T15:01:19.228025",
     "exception": false,
     "start_time": "2024-03-18T15:01:19.211801",
     "status": "completed"
    },
    "tags": []
   },
   "outputs": [],
   "source": [
    "dataY=(dataY*2).astype(int)"
   ]
  },
  {
   "cell_type": "code",
   "execution_count": 13,
   "id": "682c3f1e",
   "metadata": {
    "_kg_hide-output": true,
    "execution": {
     "iopub.execute_input": "2024-03-18T15:01:19.248863Z",
     "iopub.status.busy": "2024-03-18T15:01:19.248215Z",
     "iopub.status.idle": "2024-03-18T15:01:19.255432Z",
     "shell.execute_reply": "2024-03-18T15:01:19.254761Z"
    },
    "papermill": {
     "duration": 0.019414,
     "end_time": "2024-03-18T15:01:19.257326",
     "exception": false,
     "start_time": "2024-03-18T15:01:19.237912",
     "status": "completed"
    },
    "tags": []
   },
   "outputs": [],
   "source": [
    "trainX, testX, trainY, testY = train_test_split(dataX, dataY, test_size=0.1, random_state=42)"
   ]
  },
  {
   "cell_type": "code",
   "execution_count": 14,
   "id": "80e5253d",
   "metadata": {
    "execution": {
     "iopub.execute_input": "2024-03-18T15:01:19.277493Z",
     "iopub.status.busy": "2024-03-18T15:01:19.277229Z",
     "iopub.status.idle": "2024-03-18T15:01:19.286608Z",
     "shell.execute_reply": "2024-03-18T15:01:19.285777Z"
    },
    "papermill": {
     "duration": 0.021645,
     "end_time": "2024-03-18T15:01:19.288636",
     "exception": false,
     "start_time": "2024-03-18T15:01:19.266991",
     "status": "completed"
    },
    "tags": []
   },
   "outputs": [
    {
     "data": {
      "text/html": [
       "<div>\n",
       "<style scoped>\n",
       "    .dataframe tbody tr th:only-of-type {\n",
       "        vertical-align: middle;\n",
       "    }\n",
       "\n",
       "    .dataframe tbody tr th {\n",
       "        vertical-align: top;\n",
       "    }\n",
       "\n",
       "    .dataframe thead th {\n",
       "        text-align: right;\n",
       "    }\n",
       "</style>\n",
       "<table border=\"1\" class=\"dataframe\">\n",
       "  <thead>\n",
       "    <tr style=\"text-align: right;\">\n",
       "      <th></th>\n",
       "      <th>userId</th>\n",
       "      <th>movieId</th>\n",
       "    </tr>\n",
       "  </thead>\n",
       "  <tbody>\n",
       "    <tr>\n",
       "      <th>433</th>\n",
       "      <td>101773</td>\n",
       "      <td>1265</td>\n",
       "    </tr>\n",
       "    <tr>\n",
       "      <th>1151</th>\n",
       "      <td>103841</td>\n",
       "      <td>97913</td>\n",
       "    </tr>\n",
       "    <tr>\n",
       "      <th>73</th>\n",
       "      <td>49127</td>\n",
       "      <td>48385</td>\n",
       "    </tr>\n",
       "    <tr>\n",
       "      <th>1536</th>\n",
       "      <td>20925</td>\n",
       "      <td>45499</td>\n",
       "    </tr>\n",
       "    <tr>\n",
       "      <th>2709</th>\n",
       "      <td>117594</td>\n",
       "      <td>6664</td>\n",
       "    </tr>\n",
       "    <tr>\n",
       "      <th>...</th>\n",
       "      <td>...</td>\n",
       "      <td>...</td>\n",
       "    </tr>\n",
       "    <tr>\n",
       "      <th>1638</th>\n",
       "      <td>19463</td>\n",
       "      <td>1587</td>\n",
       "    </tr>\n",
       "    <tr>\n",
       "      <th>1095</th>\n",
       "      <td>112483</td>\n",
       "      <td>6213</td>\n",
       "    </tr>\n",
       "    <tr>\n",
       "      <th>1130</th>\n",
       "      <td>69646</td>\n",
       "      <td>1261</td>\n",
       "    </tr>\n",
       "    <tr>\n",
       "      <th>1294</th>\n",
       "      <td>100789</td>\n",
       "      <td>1961</td>\n",
       "    </tr>\n",
       "    <tr>\n",
       "      <th>860</th>\n",
       "      <td>97378</td>\n",
       "      <td>2739</td>\n",
       "    </tr>\n",
       "  </tbody>\n",
       "</table>\n",
       "<p>2700 rows × 2 columns</p>\n",
       "</div>"
      ],
      "text/plain": [
       "      userId  movieId\n",
       "433   101773     1265\n",
       "1151  103841    97913\n",
       "73     49127    48385\n",
       "1536   20925    45499\n",
       "2709  117594     6664\n",
       "...      ...      ...\n",
       "1638   19463     1587\n",
       "1095  112483     6213\n",
       "1130   69646     1261\n",
       "1294  100789     1961\n",
       "860    97378     2739\n",
       "\n",
       "[2700 rows x 2 columns]"
      ]
     },
     "metadata": {},
     "output_type": "display_data"
    }
   ],
   "source": [
    "display(trainX)"
   ]
  },
  {
   "cell_type": "code",
   "execution_count": 15,
   "id": "03d758ba",
   "metadata": {
    "execution": {
     "iopub.execute_input": "2024-03-18T15:01:19.309505Z",
     "iopub.status.busy": "2024-03-18T15:01:19.309179Z",
     "iopub.status.idle": "2024-03-18T15:01:19.318351Z",
     "shell.execute_reply": "2024-03-18T15:01:19.317458Z"
    },
    "papermill": {
     "duration": 0.021481,
     "end_time": "2024-03-18T15:01:19.320208",
     "exception": false,
     "start_time": "2024-03-18T15:01:19.298727",
     "status": "completed"
    },
    "tags": []
   },
   "outputs": [
    {
     "data": {
      "text/html": [
       "<div>\n",
       "<style scoped>\n",
       "    .dataframe tbody tr th:only-of-type {\n",
       "        vertical-align: middle;\n",
       "    }\n",
       "\n",
       "    .dataframe tbody tr th {\n",
       "        vertical-align: top;\n",
       "    }\n",
       "\n",
       "    .dataframe thead th {\n",
       "        text-align: right;\n",
       "    }\n",
       "</style>\n",
       "<table border=\"1\" class=\"dataframe\">\n",
       "  <thead>\n",
       "    <tr style=\"text-align: right;\">\n",
       "      <th></th>\n",
       "      <th>userId</th>\n",
       "      <th>movieId</th>\n",
       "    </tr>\n",
       "  </thead>\n",
       "  <tbody>\n",
       "    <tr>\n",
       "      <th>1801</th>\n",
       "      <td>147111</td>\n",
       "      <td>8622</td>\n",
       "    </tr>\n",
       "    <tr>\n",
       "      <th>1190</th>\n",
       "      <td>142009</td>\n",
       "      <td>296</td>\n",
       "    </tr>\n",
       "    <tr>\n",
       "      <th>1817</th>\n",
       "      <td>45435</td>\n",
       "      <td>367</td>\n",
       "    </tr>\n",
       "    <tr>\n",
       "      <th>251</th>\n",
       "      <td>66587</td>\n",
       "      <td>357</td>\n",
       "    </tr>\n",
       "    <tr>\n",
       "      <th>2505</th>\n",
       "      <td>4775</td>\n",
       "      <td>1199</td>\n",
       "    </tr>\n",
       "    <tr>\n",
       "      <th>...</th>\n",
       "      <td>...</td>\n",
       "      <td>...</td>\n",
       "    </tr>\n",
       "    <tr>\n",
       "      <th>2497</th>\n",
       "      <td>160260</td>\n",
       "      <td>1222</td>\n",
       "    </tr>\n",
       "    <tr>\n",
       "      <th>787</th>\n",
       "      <td>161561</td>\n",
       "      <td>30816</td>\n",
       "    </tr>\n",
       "    <tr>\n",
       "      <th>2636</th>\n",
       "      <td>75469</td>\n",
       "      <td>5653</td>\n",
       "    </tr>\n",
       "    <tr>\n",
       "      <th>2538</th>\n",
       "      <td>120516</td>\n",
       "      <td>1967</td>\n",
       "    </tr>\n",
       "    <tr>\n",
       "      <th>402</th>\n",
       "      <td>10849</td>\n",
       "      <td>1225</td>\n",
       "    </tr>\n",
       "  </tbody>\n",
       "</table>\n",
       "<p>300 rows × 2 columns</p>\n",
       "</div>"
      ],
      "text/plain": [
       "      userId  movieId\n",
       "1801  147111     8622\n",
       "1190  142009      296\n",
       "1817   45435      367\n",
       "251    66587      357\n",
       "2505    4775     1199\n",
       "...      ...      ...\n",
       "2497  160260     1222\n",
       "787   161561    30816\n",
       "2636   75469     5653\n",
       "2538  120516     1967\n",
       "402    10849     1225\n",
       "\n",
       "[300 rows x 2 columns]"
      ]
     },
     "metadata": {},
     "output_type": "display_data"
    }
   ],
   "source": [
    "display(testX)"
   ]
  },
  {
   "cell_type": "markdown",
   "id": "1ec62ba9",
   "metadata": {
    "papermill": {
     "duration": 0.009846,
     "end_time": "2024-03-18T15:01:19.340034",
     "exception": false,
     "start_time": "2024-03-18T15:01:19.330188",
     "status": "completed"
    },
    "tags": []
   },
   "source": [
    "# preparing TESTX to check the recommendation ability of LGBM Ranker  "
   ]
  },
  {
   "cell_type": "code",
   "execution_count": 16,
   "id": "82d5deee",
   "metadata": {
    "execution": {
     "iopub.execute_input": "2024-03-18T15:01:19.361079Z",
     "iopub.status.busy": "2024-03-18T15:01:19.360812Z",
     "iopub.status.idle": "2024-03-18T15:01:19.366655Z",
     "shell.execute_reply": "2024-03-18T15:01:19.365867Z"
    },
    "papermill": {
     "duration": 0.018616,
     "end_time": "2024-03-18T15:01:19.368657",
     "exception": false,
     "start_time": "2024-03-18T15:01:19.350041",
     "status": "completed"
    },
    "tags": []
   },
   "outputs": [
    {
     "name": "stdout",
     "output_type": "stream",
     "text": [
      "[180031, 33794, 296, 592, 5952, 68157, 2716, 7254, 1171, 1270]\n",
      "[10849, 147111, 142009, 45435, 66587, 4775, 6057, 100007, 120842, 101528]\n"
     ]
    }
   ],
   "source": [
    "test_movie=testX['movieId'].value_counts()[0:10].index.tolist()\n",
    "test_user=testX['userId'].value_counts()[0:10].index.tolist()\n",
    "print(test_movie)\n",
    "print(test_user)"
   ]
  },
  {
   "cell_type": "code",
   "execution_count": 17,
   "id": "5e58cdbd",
   "metadata": {
    "execution": {
     "iopub.execute_input": "2024-03-18T15:01:19.389689Z",
     "iopub.status.busy": "2024-03-18T15:01:19.389416Z",
     "iopub.status.idle": "2024-03-18T15:01:19.399778Z",
     "shell.execute_reply": "2024-03-18T15:01:19.398933Z"
    },
    "papermill": {
     "duration": 0.022933,
     "end_time": "2024-03-18T15:01:19.401639",
     "exception": false,
     "start_time": "2024-03-18T15:01:19.378706",
     "status": "completed"
    },
    "tags": []
   },
   "outputs": [
    {
     "data": {
      "text/html": [
       "<div>\n",
       "<style scoped>\n",
       "    .dataframe tbody tr th:only-of-type {\n",
       "        vertical-align: middle;\n",
       "    }\n",
       "\n",
       "    .dataframe tbody tr th {\n",
       "        vertical-align: top;\n",
       "    }\n",
       "\n",
       "    .dataframe thead th {\n",
       "        text-align: right;\n",
       "    }\n",
       "</style>\n",
       "<table border=\"1\" class=\"dataframe\">\n",
       "  <thead>\n",
       "    <tr style=\"text-align: right;\">\n",
       "      <th></th>\n",
       "      <th>movieId</th>\n",
       "      <th>userId</th>\n",
       "    </tr>\n",
       "  </thead>\n",
       "  <tbody>\n",
       "    <tr>\n",
       "      <th>0</th>\n",
       "      <td>180031</td>\n",
       "      <td>10849</td>\n",
       "    </tr>\n",
       "    <tr>\n",
       "      <th>1</th>\n",
       "      <td>180031</td>\n",
       "      <td>147111</td>\n",
       "    </tr>\n",
       "    <tr>\n",
       "      <th>2</th>\n",
       "      <td>180031</td>\n",
       "      <td>142009</td>\n",
       "    </tr>\n",
       "    <tr>\n",
       "      <th>3</th>\n",
       "      <td>180031</td>\n",
       "      <td>45435</td>\n",
       "    </tr>\n",
       "    <tr>\n",
       "      <th>4</th>\n",
       "      <td>180031</td>\n",
       "      <td>66587</td>\n",
       "    </tr>\n",
       "    <tr>\n",
       "      <th>...</th>\n",
       "      <td>...</td>\n",
       "      <td>...</td>\n",
       "    </tr>\n",
       "    <tr>\n",
       "      <th>95</th>\n",
       "      <td>1270</td>\n",
       "      <td>4775</td>\n",
       "    </tr>\n",
       "    <tr>\n",
       "      <th>96</th>\n",
       "      <td>1270</td>\n",
       "      <td>6057</td>\n",
       "    </tr>\n",
       "    <tr>\n",
       "      <th>97</th>\n",
       "      <td>1270</td>\n",
       "      <td>100007</td>\n",
       "    </tr>\n",
       "    <tr>\n",
       "      <th>98</th>\n",
       "      <td>1270</td>\n",
       "      <td>120842</td>\n",
       "    </tr>\n",
       "    <tr>\n",
       "      <th>99</th>\n",
       "      <td>1270</td>\n",
       "      <td>101528</td>\n",
       "    </tr>\n",
       "  </tbody>\n",
       "</table>\n",
       "<p>100 rows × 2 columns</p>\n",
       "</div>"
      ],
      "text/plain": [
       "    movieId  userId\n",
       "0    180031   10849\n",
       "1    180031  147111\n",
       "2    180031  142009\n",
       "3    180031   45435\n",
       "4    180031   66587\n",
       "..      ...     ...\n",
       "95     1270    4775\n",
       "96     1270    6057\n",
       "97     1270  100007\n",
       "98     1270  120842\n",
       "99     1270  101528\n",
       "\n",
       "[100 rows x 2 columns]"
      ]
     },
     "metadata": {},
     "output_type": "display_data"
    }
   ],
   "source": [
    "data=[]\n",
    "for a in test_movie:\n",
    "    for u in test_user:\n",
    "        data+=[[a,u]]\n",
    "        \n",
    "TESTX=pd.DataFrame(data=data,columns=['movieId','userId'])\n",
    "display(TESTX)\n",
    "#the combination of 10 users*10 animes"
   ]
  },
  {
   "cell_type": "markdown",
   "id": "ab664235",
   "metadata": {
    "papermill": {
     "duration": 0.010141,
     "end_time": "2024-03-18T15:01:19.422095",
     "exception": false,
     "start_time": "2024-03-18T15:01:19.411954",
     "status": "completed"
    },
    "tags": []
   },
   "source": [
    "# LGBMRanker"
   ]
  },
  {
   "cell_type": "code",
   "execution_count": 18,
   "id": "90d8a681",
   "metadata": {
    "execution": {
     "iopub.execute_input": "2024-03-18T15:01:19.444176Z",
     "iopub.status.busy": "2024-03-18T15:01:19.443565Z",
     "iopub.status.idle": "2024-03-18T15:01:19.452934Z",
     "shell.execute_reply": "2024-03-18T15:01:19.452102Z"
    },
    "papermill": {
     "duration": 0.022357,
     "end_time": "2024-03-18T15:01:19.454783",
     "exception": false,
     "start_time": "2024-03-18T15:01:19.432426",
     "status": "completed"
    },
    "tags": []
   },
   "outputs": [
    {
     "data": {
      "text/html": [
       "<style>#sk-container-id-1 {color: black;background-color: white;}#sk-container-id-1 pre{padding: 0;}#sk-container-id-1 div.sk-toggleable {background-color: white;}#sk-container-id-1 label.sk-toggleable__label {cursor: pointer;display: block;width: 100%;margin-bottom: 0;padding: 0.3em;box-sizing: border-box;text-align: center;}#sk-container-id-1 label.sk-toggleable__label-arrow:before {content: \"▸\";float: left;margin-right: 0.25em;color: #696969;}#sk-container-id-1 label.sk-toggleable__label-arrow:hover:before {color: black;}#sk-container-id-1 div.sk-estimator:hover label.sk-toggleable__label-arrow:before {color: black;}#sk-container-id-1 div.sk-toggleable__content {max-height: 0;max-width: 0;overflow: hidden;text-align: left;background-color: #f0f8ff;}#sk-container-id-1 div.sk-toggleable__content pre {margin: 0.2em;color: black;border-radius: 0.25em;background-color: #f0f8ff;}#sk-container-id-1 input.sk-toggleable__control:checked~div.sk-toggleable__content {max-height: 200px;max-width: 100%;overflow: auto;}#sk-container-id-1 input.sk-toggleable__control:checked~label.sk-toggleable__label-arrow:before {content: \"▾\";}#sk-container-id-1 div.sk-estimator input.sk-toggleable__control:checked~label.sk-toggleable__label {background-color: #d4ebff;}#sk-container-id-1 div.sk-label input.sk-toggleable__control:checked~label.sk-toggleable__label {background-color: #d4ebff;}#sk-container-id-1 input.sk-hidden--visually {border: 0;clip: rect(1px 1px 1px 1px);clip: rect(1px, 1px, 1px, 1px);height: 1px;margin: -1px;overflow: hidden;padding: 0;position: absolute;width: 1px;}#sk-container-id-1 div.sk-estimator {font-family: monospace;background-color: #f0f8ff;border: 1px dotted black;border-radius: 0.25em;box-sizing: border-box;margin-bottom: 0.5em;}#sk-container-id-1 div.sk-estimator:hover {background-color: #d4ebff;}#sk-container-id-1 div.sk-parallel-item::after {content: \"\";width: 100%;border-bottom: 1px solid gray;flex-grow: 1;}#sk-container-id-1 div.sk-label:hover label.sk-toggleable__label {background-color: #d4ebff;}#sk-container-id-1 div.sk-serial::before {content: \"\";position: absolute;border-left: 1px solid gray;box-sizing: border-box;top: 0;bottom: 0;left: 50%;z-index: 0;}#sk-container-id-1 div.sk-serial {display: flex;flex-direction: column;align-items: center;background-color: white;padding-right: 0.2em;padding-left: 0.2em;position: relative;}#sk-container-id-1 div.sk-item {position: relative;z-index: 1;}#sk-container-id-1 div.sk-parallel {display: flex;align-items: stretch;justify-content: center;background-color: white;position: relative;}#sk-container-id-1 div.sk-item::before, #sk-container-id-1 div.sk-parallel-item::before {content: \"\";position: absolute;border-left: 1px solid gray;box-sizing: border-box;top: 0;bottom: 0;left: 50%;z-index: -1;}#sk-container-id-1 div.sk-parallel-item {display: flex;flex-direction: column;z-index: 1;position: relative;background-color: white;}#sk-container-id-1 div.sk-parallel-item:first-child::after {align-self: flex-end;width: 50%;}#sk-container-id-1 div.sk-parallel-item:last-child::after {align-self: flex-start;width: 50%;}#sk-container-id-1 div.sk-parallel-item:only-child::after {width: 0;}#sk-container-id-1 div.sk-dashed-wrapped {border: 1px dashed gray;margin: 0 0.4em 0.5em 0.4em;box-sizing: border-box;padding-bottom: 0.4em;background-color: white;}#sk-container-id-1 div.sk-label label {font-family: monospace;font-weight: bold;display: inline-block;line-height: 1.2em;}#sk-container-id-1 div.sk-label-container {text-align: center;}#sk-container-id-1 div.sk-container {/* jupyter's `normalize.less` sets `[hidden] { display: none; }` but bootstrap.min.css set `[hidden] { display: none !important; }` so we also need the `!important` here to be able to override the default hidden behavior on the sphinx rendered scikit-learn.org. See: https://github.com/scikit-learn/scikit-learn/issues/21755 */display: inline-block !important;position: relative;}#sk-container-id-1 div.sk-text-repr-fallback {display: none;}</style><div id=\"sk-container-id-1\" class=\"sk-top-container\"><div class=\"sk-text-repr-fallback\"><pre>LGBMRanker(boosting_type=&#x27;dart&#x27;, importance_type=&#x27;gain&#x27;, metric=&#x27;ndcg&#x27;,\n",
       "           n_estimators=6, objective=&#x27;lambdarank&#x27;)</pre><b>In a Jupyter environment, please rerun this cell to show the HTML representation or trust the notebook. <br />On GitHub, the HTML representation is unable to render, please try loading this page with nbviewer.org.</b></div><div class=\"sk-container\" hidden><div class=\"sk-item\"><div class=\"sk-estimator sk-toggleable\"><input class=\"sk-toggleable__control sk-hidden--visually\" id=\"sk-estimator-id-1\" type=\"checkbox\" checked><label for=\"sk-estimator-id-1\" class=\"sk-toggleable__label sk-toggleable__label-arrow\">LGBMRanker</label><div class=\"sk-toggleable__content\"><pre>LGBMRanker(boosting_type=&#x27;dart&#x27;, importance_type=&#x27;gain&#x27;, metric=&#x27;ndcg&#x27;,\n",
       "           n_estimators=6, objective=&#x27;lambdarank&#x27;)</pre></div></div></div></div></div>"
      ],
      "text/plain": [
       "LGBMRanker(boosting_type='dart', importance_type='gain', metric='ndcg',\n",
       "           n_estimators=6, objective='lambdarank')"
      ]
     },
     "execution_count": 18,
     "metadata": {},
     "output_type": "execute_result"
    }
   ],
   "source": [
    "ranker = LGBMRanker(\n",
    "    objective=\"lambdarank\",\n",
    "    metric=\"ndcg\",\n",
    "    boosting_type=\"dart\",\n",
    "    n_estimators=6,\n",
    "    importance_type='gain',\n",
    ")\n",
    "\n",
    "ranker"
   ]
  },
  {
   "cell_type": "markdown",
   "id": "b4ec65ee",
   "metadata": {
    "papermill": {
     "duration": 0.010241,
     "end_time": "2024-03-18T15:01:19.475576",
     "exception": false,
     "start_time": "2024-03-18T15:01:19.465335",
     "status": "completed"
    },
    "tags": []
   },
   "source": [
    "# def get_session_lengths for group"
   ]
  },
  {
   "cell_type": "code",
   "execution_count": 19,
   "id": "6201b745",
   "metadata": {
    "execution": {
     "iopub.execute_input": "2024-03-18T15:01:19.497926Z",
     "iopub.status.busy": "2024-03-18T15:01:19.497669Z",
     "iopub.status.idle": "2024-03-18T15:01:19.507982Z",
     "shell.execute_reply": "2024-03-18T15:01:19.507138Z"
    },
    "papermill": {
     "duration": 0.023776,
     "end_time": "2024-03-18T15:01:19.509988",
     "exception": false,
     "start_time": "2024-03-18T15:01:19.486212",
     "status": "completed"
    },
    "tags": []
   },
   "outputs": [
    {
     "data": {
      "text/html": [
       "<div>\n",
       "<style scoped>\n",
       "    .dataframe tbody tr th:only-of-type {\n",
       "        vertical-align: middle;\n",
       "    }\n",
       "\n",
       "    .dataframe tbody tr th {\n",
       "        vertical-align: top;\n",
       "    }\n",
       "\n",
       "    .dataframe thead th {\n",
       "        text-align: right;\n",
       "    }\n",
       "</style>\n",
       "<table border=\"1\" class=\"dataframe\">\n",
       "  <thead>\n",
       "    <tr style=\"text-align: right;\">\n",
       "      <th></th>\n",
       "      <th>userId</th>\n",
       "      <th>session_length</th>\n",
       "    </tr>\n",
       "  </thead>\n",
       "  <tbody>\n",
       "    <tr>\n",
       "      <th>0</th>\n",
       "      <td>9</td>\n",
       "      <td>1</td>\n",
       "    </tr>\n",
       "    <tr>\n",
       "      <th>1</th>\n",
       "      <td>43</td>\n",
       "      <td>1</td>\n",
       "    </tr>\n",
       "    <tr>\n",
       "      <th>2</th>\n",
       "      <td>87</td>\n",
       "      <td>1</td>\n",
       "    </tr>\n",
       "    <tr>\n",
       "      <th>3</th>\n",
       "      <td>139</td>\n",
       "      <td>1</td>\n",
       "    </tr>\n",
       "    <tr>\n",
       "      <th>4</th>\n",
       "      <td>240</td>\n",
       "      <td>1</td>\n",
       "    </tr>\n",
       "  </tbody>\n",
       "</table>\n",
       "</div>"
      ],
      "text/plain": [
       "   userId  session_length\n",
       "0       9               1\n",
       "1      43               1\n",
       "2      87               1\n",
       "3     139               1\n",
       "4     240               1"
      ]
     },
     "execution_count": 19,
     "metadata": {},
     "output_type": "execute_result"
    }
   ],
   "source": [
    "def get_session_lengths(df, group_col):\n",
    "    return df.groupby(group_col).size().reset_index(name='session_length')\n",
    "\n",
    "session_lengths_train = get_session_lengths(trainX,group_col)\n",
    "session_lengths_train[0:5]"
   ]
  },
  {
   "cell_type": "code",
   "execution_count": 20,
   "id": "8b20c5e8",
   "metadata": {
    "execution": {
     "iopub.execute_input": "2024-03-18T15:01:19.532574Z",
     "iopub.status.busy": "2024-03-18T15:01:19.532287Z",
     "iopub.status.idle": "2024-03-18T15:01:19.596531Z",
     "shell.execute_reply": "2024-03-18T15:01:19.595723Z"
    },
    "papermill": {
     "duration": 0.077551,
     "end_time": "2024-03-18T15:01:19.598345",
     "exception": false,
     "start_time": "2024-03-18T15:01:19.520794",
     "status": "completed"
    },
    "tags": []
   },
   "outputs": [
    {
     "name": "stdout",
     "output_type": "stream",
     "text": [
      "[LightGBM] [Info] Auto-choosing col-wise multi-threading, the overhead of testing was 0.000155 seconds.\n",
      "You can set `force_col_wise=true` to remove the overhead.\n",
      "[LightGBM] [Info] Total Bins 510\n",
      "[LightGBM] [Info] Number of data points in the train set: 2700, number of used features: 2\n"
     ]
    },
    {
     "data": {
      "text/html": [
       "<style>#sk-container-id-2 {color: black;background-color: white;}#sk-container-id-2 pre{padding: 0;}#sk-container-id-2 div.sk-toggleable {background-color: white;}#sk-container-id-2 label.sk-toggleable__label {cursor: pointer;display: block;width: 100%;margin-bottom: 0;padding: 0.3em;box-sizing: border-box;text-align: center;}#sk-container-id-2 label.sk-toggleable__label-arrow:before {content: \"▸\";float: left;margin-right: 0.25em;color: #696969;}#sk-container-id-2 label.sk-toggleable__label-arrow:hover:before {color: black;}#sk-container-id-2 div.sk-estimator:hover label.sk-toggleable__label-arrow:before {color: black;}#sk-container-id-2 div.sk-toggleable__content {max-height: 0;max-width: 0;overflow: hidden;text-align: left;background-color: #f0f8ff;}#sk-container-id-2 div.sk-toggleable__content pre {margin: 0.2em;color: black;border-radius: 0.25em;background-color: #f0f8ff;}#sk-container-id-2 input.sk-toggleable__control:checked~div.sk-toggleable__content {max-height: 200px;max-width: 100%;overflow: auto;}#sk-container-id-2 input.sk-toggleable__control:checked~label.sk-toggleable__label-arrow:before {content: \"▾\";}#sk-container-id-2 div.sk-estimator input.sk-toggleable__control:checked~label.sk-toggleable__label {background-color: #d4ebff;}#sk-container-id-2 div.sk-label input.sk-toggleable__control:checked~label.sk-toggleable__label {background-color: #d4ebff;}#sk-container-id-2 input.sk-hidden--visually {border: 0;clip: rect(1px 1px 1px 1px);clip: rect(1px, 1px, 1px, 1px);height: 1px;margin: -1px;overflow: hidden;padding: 0;position: absolute;width: 1px;}#sk-container-id-2 div.sk-estimator {font-family: monospace;background-color: #f0f8ff;border: 1px dotted black;border-radius: 0.25em;box-sizing: border-box;margin-bottom: 0.5em;}#sk-container-id-2 div.sk-estimator:hover {background-color: #d4ebff;}#sk-container-id-2 div.sk-parallel-item::after {content: \"\";width: 100%;border-bottom: 1px solid gray;flex-grow: 1;}#sk-container-id-2 div.sk-label:hover label.sk-toggleable__label {background-color: #d4ebff;}#sk-container-id-2 div.sk-serial::before {content: \"\";position: absolute;border-left: 1px solid gray;box-sizing: border-box;top: 0;bottom: 0;left: 50%;z-index: 0;}#sk-container-id-2 div.sk-serial {display: flex;flex-direction: column;align-items: center;background-color: white;padding-right: 0.2em;padding-left: 0.2em;position: relative;}#sk-container-id-2 div.sk-item {position: relative;z-index: 1;}#sk-container-id-2 div.sk-parallel {display: flex;align-items: stretch;justify-content: center;background-color: white;position: relative;}#sk-container-id-2 div.sk-item::before, #sk-container-id-2 div.sk-parallel-item::before {content: \"\";position: absolute;border-left: 1px solid gray;box-sizing: border-box;top: 0;bottom: 0;left: 50%;z-index: -1;}#sk-container-id-2 div.sk-parallel-item {display: flex;flex-direction: column;z-index: 1;position: relative;background-color: white;}#sk-container-id-2 div.sk-parallel-item:first-child::after {align-self: flex-end;width: 50%;}#sk-container-id-2 div.sk-parallel-item:last-child::after {align-self: flex-start;width: 50%;}#sk-container-id-2 div.sk-parallel-item:only-child::after {width: 0;}#sk-container-id-2 div.sk-dashed-wrapped {border: 1px dashed gray;margin: 0 0.4em 0.5em 0.4em;box-sizing: border-box;padding-bottom: 0.4em;background-color: white;}#sk-container-id-2 div.sk-label label {font-family: monospace;font-weight: bold;display: inline-block;line-height: 1.2em;}#sk-container-id-2 div.sk-label-container {text-align: center;}#sk-container-id-2 div.sk-container {/* jupyter's `normalize.less` sets `[hidden] { display: none; }` but bootstrap.min.css set `[hidden] { display: none !important; }` so we also need the `!important` here to be able to override the default hidden behavior on the sphinx rendered scikit-learn.org. See: https://github.com/scikit-learn/scikit-learn/issues/21755 */display: inline-block !important;position: relative;}#sk-container-id-2 div.sk-text-repr-fallback {display: none;}</style><div id=\"sk-container-id-2\" class=\"sk-top-container\"><div class=\"sk-text-repr-fallback\"><pre>LGBMRanker(boosting_type=&#x27;dart&#x27;, importance_type=&#x27;gain&#x27;, metric=&#x27;ndcg&#x27;,\n",
       "           n_estimators=6, objective=&#x27;lambdarank&#x27;)</pre><b>In a Jupyter environment, please rerun this cell to show the HTML representation or trust the notebook. <br />On GitHub, the HTML representation is unable to render, please try loading this page with nbviewer.org.</b></div><div class=\"sk-container\" hidden><div class=\"sk-item\"><div class=\"sk-estimator sk-toggleable\"><input class=\"sk-toggleable__control sk-hidden--visually\" id=\"sk-estimator-id-2\" type=\"checkbox\" checked><label for=\"sk-estimator-id-2\" class=\"sk-toggleable__label sk-toggleable__label-arrow\">LGBMRanker</label><div class=\"sk-toggleable__content\"><pre>LGBMRanker(boosting_type=&#x27;dart&#x27;, importance_type=&#x27;gain&#x27;, metric=&#x27;ndcg&#x27;,\n",
       "           n_estimators=6, objective=&#x27;lambdarank&#x27;)</pre></div></div></div></div></div>"
      ],
      "text/plain": [
       "LGBMRanker(boosting_type='dart', importance_type='gain', metric='ndcg',\n",
       "           n_estimators=6, objective='lambdarank')"
      ]
     },
     "execution_count": 20,
     "metadata": {},
     "output_type": "execute_result"
    }
   ],
   "source": [
    "ranker.fit(\n",
    "    trainX,\n",
    "    trainY,\n",
    "    group=np.array(session_lengths_train['session_length'])\n",
    ")"
   ]
  },
  {
   "cell_type": "markdown",
   "id": "6f7a563c",
   "metadata": {
    "papermill": {
     "duration": 0.010895,
     "end_time": "2024-03-18T15:01:19.620568",
     "exception": false,
     "start_time": "2024-03-18T15:01:19.609673",
     "status": "completed"
    },
    "tags": []
   },
   "source": [
    "# predict(TESTX)"
   ]
  },
  {
   "cell_type": "code",
   "execution_count": 21,
   "id": "50e07d0f",
   "metadata": {
    "execution": {
     "iopub.execute_input": "2024-03-18T15:01:19.643722Z",
     "iopub.status.busy": "2024-03-18T15:01:19.643447Z",
     "iopub.status.idle": "2024-03-18T15:01:19.650887Z",
     "shell.execute_reply": "2024-03-18T15:01:19.650120Z"
    },
    "papermill": {
     "duration": 0.020997,
     "end_time": "2024-03-18T15:01:19.652684",
     "exception": false,
     "start_time": "2024-03-18T15:01:19.631687",
     "status": "completed"
    },
    "tags": []
   },
   "outputs": [
    {
     "data": {
      "text/plain": [
       "array([ 0.08228335, -0.95320213, -0.95320213, -0.14612879,  0.88127929])"
      ]
     },
     "execution_count": 21,
     "metadata": {},
     "output_type": "execute_result"
    }
   ],
   "source": [
    "scores = ranker.predict(TESTX)\n",
    "scores[0:5]"
   ]
  },
  {
   "cell_type": "code",
   "execution_count": 22,
   "id": "8090ca1a",
   "metadata": {
    "execution": {
     "iopub.execute_input": "2024-03-18T15:01:19.676191Z",
     "iopub.status.busy": "2024-03-18T15:01:19.675953Z",
     "iopub.status.idle": "2024-03-18T15:01:19.686554Z",
     "shell.execute_reply": "2024-03-18T15:01:19.685752Z"
    },
    "papermill": {
     "duration": 0.024407,
     "end_time": "2024-03-18T15:01:19.688408",
     "exception": false,
     "start_time": "2024-03-18T15:01:19.664001",
     "status": "completed"
    },
    "tags": []
   },
   "outputs": [
    {
     "data": {
      "text/html": [
       "<div>\n",
       "<style scoped>\n",
       "    .dataframe tbody tr th:only-of-type {\n",
       "        vertical-align: middle;\n",
       "    }\n",
       "\n",
       "    .dataframe tbody tr th {\n",
       "        vertical-align: top;\n",
       "    }\n",
       "\n",
       "    .dataframe thead th {\n",
       "        text-align: right;\n",
       "    }\n",
       "</style>\n",
       "<table border=\"1\" class=\"dataframe\">\n",
       "  <thead>\n",
       "    <tr style=\"text-align: right;\">\n",
       "      <th></th>\n",
       "      <th>movieId</th>\n",
       "      <th>userId</th>\n",
       "      <th>score</th>\n",
       "    </tr>\n",
       "  </thead>\n",
       "  <tbody>\n",
       "    <tr>\n",
       "      <th>0</th>\n",
       "      <td>180031</td>\n",
       "      <td>10849</td>\n",
       "      <td>0.082283</td>\n",
       "    </tr>\n",
       "    <tr>\n",
       "      <th>1</th>\n",
       "      <td>180031</td>\n",
       "      <td>147111</td>\n",
       "      <td>-0.953202</td>\n",
       "    </tr>\n",
       "    <tr>\n",
       "      <th>2</th>\n",
       "      <td>180031</td>\n",
       "      <td>142009</td>\n",
       "      <td>-0.953202</td>\n",
       "    </tr>\n",
       "    <tr>\n",
       "      <th>3</th>\n",
       "      <td>180031</td>\n",
       "      <td>45435</td>\n",
       "      <td>-0.146129</td>\n",
       "    </tr>\n",
       "    <tr>\n",
       "      <th>4</th>\n",
       "      <td>180031</td>\n",
       "      <td>66587</td>\n",
       "      <td>0.881279</td>\n",
       "    </tr>\n",
       "    <tr>\n",
       "      <th>...</th>\n",
       "      <td>...</td>\n",
       "      <td>...</td>\n",
       "      <td>...</td>\n",
       "    </tr>\n",
       "    <tr>\n",
       "      <th>95</th>\n",
       "      <td>1270</td>\n",
       "      <td>4775</td>\n",
       "      <td>0.188242</td>\n",
       "    </tr>\n",
       "    <tr>\n",
       "      <th>96</th>\n",
       "      <td>1270</td>\n",
       "      <td>6057</td>\n",
       "      <td>0.188242</td>\n",
       "    </tr>\n",
       "    <tr>\n",
       "      <th>97</th>\n",
       "      <td>1270</td>\n",
       "      <td>100007</td>\n",
       "      <td>0.078410</td>\n",
       "    </tr>\n",
       "    <tr>\n",
       "      <th>98</th>\n",
       "      <td>1270</td>\n",
       "      <td>120842</td>\n",
       "      <td>0.524842</td>\n",
       "    </tr>\n",
       "    <tr>\n",
       "      <th>99</th>\n",
       "      <td>1270</td>\n",
       "      <td>101528</td>\n",
       "      <td>0.078410</td>\n",
       "    </tr>\n",
       "  </tbody>\n",
       "</table>\n",
       "<p>100 rows × 3 columns</p>\n",
       "</div>"
      ],
      "text/plain": [
       "    movieId  userId     score\n",
       "0    180031   10849  0.082283\n",
       "1    180031  147111 -0.953202\n",
       "2    180031  142009 -0.953202\n",
       "3    180031   45435 -0.146129\n",
       "4    180031   66587  0.881279\n",
       "..      ...     ...       ...\n",
       "95     1270    4775  0.188242\n",
       "96     1270    6057  0.188242\n",
       "97     1270  100007  0.078410\n",
       "98     1270  120842  0.524842\n",
       "99     1270  101528  0.078410\n",
       "\n",
       "[100 rows x 3 columns]"
      ]
     },
     "metadata": {},
     "output_type": "display_data"
    }
   ],
   "source": [
    "result=pd.concat([TESTX,pd.DataFrame(data=scores,columns=['score'])],axis=1)\n",
    "display(result)"
   ]
  },
  {
   "cell_type": "code",
   "execution_count": 23,
   "id": "1bd34e3f",
   "metadata": {
    "execution": {
     "iopub.execute_input": "2024-03-18T15:01:19.713788Z",
     "iopub.status.busy": "2024-03-18T15:01:19.713547Z",
     "iopub.status.idle": "2024-03-18T15:01:19.834374Z",
     "shell.execute_reply": "2024-03-18T15:01:19.833520Z"
    },
    "papermill": {
     "duration": 0.135345,
     "end_time": "2024-03-18T15:01:19.836209",
     "exception": false,
     "start_time": "2024-03-18T15:01:19.700864",
     "status": "completed"
    },
    "tags": []
   },
   "outputs": [
    {
     "data": {
      "text/html": [
       "<div>\n",
       "<style scoped>\n",
       "    .dataframe tbody tr th:only-of-type {\n",
       "        vertical-align: middle;\n",
       "    }\n",
       "\n",
       "    .dataframe tbody tr th {\n",
       "        vertical-align: top;\n",
       "    }\n",
       "\n",
       "    .dataframe thead th {\n",
       "        text-align: right;\n",
       "    }\n",
       "</style>\n",
       "<table border=\"1\" class=\"dataframe\">\n",
       "  <thead>\n",
       "    <tr style=\"text-align: right;\">\n",
       "      <th></th>\n",
       "      <th>movieId</th>\n",
       "      <th>userId</th>\n",
       "      <th>score</th>\n",
       "      <th>title</th>\n",
       "    </tr>\n",
       "  </thead>\n",
       "  <tbody>\n",
       "    <tr>\n",
       "      <th>4</th>\n",
       "      <td>180031</td>\n",
       "      <td>66587</td>\n",
       "      <td>0.881279</td>\n",
       "      <td>The Shape of Water (2017)</td>\n",
       "    </tr>\n",
       "    <tr>\n",
       "      <th>0</th>\n",
       "      <td>180031</td>\n",
       "      <td>10849</td>\n",
       "      <td>0.082283</td>\n",
       "      <td>The Shape of Water (2017)</td>\n",
       "    </tr>\n",
       "    <tr>\n",
       "      <th>6</th>\n",
       "      <td>180031</td>\n",
       "      <td>6057</td>\n",
       "      <td>0.082283</td>\n",
       "      <td>The Shape of Water (2017)</td>\n",
       "    </tr>\n",
       "    <tr>\n",
       "      <th>5</th>\n",
       "      <td>180031</td>\n",
       "      <td>4775</td>\n",
       "      <td>0.082283</td>\n",
       "      <td>The Shape of Water (2017)</td>\n",
       "    </tr>\n",
       "    <tr>\n",
       "      <th>8</th>\n",
       "      <td>180031</td>\n",
       "      <td>120842</td>\n",
       "      <td>0.014694</td>\n",
       "      <td>The Shape of Water (2017)</td>\n",
       "    </tr>\n",
       "    <tr>\n",
       "      <th>3</th>\n",
       "      <td>180031</td>\n",
       "      <td>45435</td>\n",
       "      <td>-0.146129</td>\n",
       "      <td>The Shape of Water (2017)</td>\n",
       "    </tr>\n",
       "    <tr>\n",
       "      <th>9</th>\n",
       "      <td>180031</td>\n",
       "      <td>101528</td>\n",
       "      <td>-0.706431</td>\n",
       "      <td>The Shape of Water (2017)</td>\n",
       "    </tr>\n",
       "    <tr>\n",
       "      <th>7</th>\n",
       "      <td>180031</td>\n",
       "      <td>100007</td>\n",
       "      <td>-0.706431</td>\n",
       "      <td>The Shape of Water (2017)</td>\n",
       "    </tr>\n",
       "    <tr>\n",
       "      <th>1</th>\n",
       "      <td>180031</td>\n",
       "      <td>147111</td>\n",
       "      <td>-0.953202</td>\n",
       "      <td>The Shape of Water (2017)</td>\n",
       "    </tr>\n",
       "    <tr>\n",
       "      <th>2</th>\n",
       "      <td>180031</td>\n",
       "      <td>142009</td>\n",
       "      <td>-0.953202</td>\n",
       "      <td>The Shape of Water (2017)</td>\n",
       "    </tr>\n",
       "  </tbody>\n",
       "</table>\n",
       "</div>"
      ],
      "text/plain": [
       "   movieId  userId     score                      title\n",
       "4   180031   66587  0.881279  The Shape of Water (2017)\n",
       "0   180031   10849  0.082283  The Shape of Water (2017)\n",
       "6   180031    6057  0.082283  The Shape of Water (2017)\n",
       "5   180031    4775  0.082283  The Shape of Water (2017)\n",
       "8   180031  120842  0.014694  The Shape of Water (2017)\n",
       "3   180031   45435 -0.146129  The Shape of Water (2017)\n",
       "9   180031  101528 -0.706431  The Shape of Water (2017)\n",
       "7   180031  100007 -0.706431  The Shape of Water (2017)\n",
       "1   180031  147111 -0.953202  The Shape of Water (2017)\n",
       "2   180031  142009 -0.953202  The Shape of Water (2017)"
      ]
     },
     "metadata": {},
     "output_type": "display_data"
    },
    {
     "data": {
      "text/html": [
       "<div>\n",
       "<style scoped>\n",
       "    .dataframe tbody tr th:only-of-type {\n",
       "        vertical-align: middle;\n",
       "    }\n",
       "\n",
       "    .dataframe tbody tr th {\n",
       "        vertical-align: top;\n",
       "    }\n",
       "\n",
       "    .dataframe thead th {\n",
       "        text-align: right;\n",
       "    }\n",
       "</style>\n",
       "<table border=\"1\" class=\"dataframe\">\n",
       "  <thead>\n",
       "    <tr style=\"text-align: right;\">\n",
       "      <th></th>\n",
       "      <th>movieId</th>\n",
       "      <th>userId</th>\n",
       "      <th>score</th>\n",
       "      <th>title</th>\n",
       "    </tr>\n",
       "  </thead>\n",
       "  <tbody>\n",
       "    <tr>\n",
       "      <th>14</th>\n",
       "      <td>33794</td>\n",
       "      <td>66587</td>\n",
       "      <td>0.900135</td>\n",
       "      <td>Batman Begins (2005)</td>\n",
       "    </tr>\n",
       "    <tr>\n",
       "      <th>18</th>\n",
       "      <td>33794</td>\n",
       "      <td>120842</td>\n",
       "      <td>0.879681</td>\n",
       "      <td>Batman Begins (2005)</td>\n",
       "    </tr>\n",
       "    <tr>\n",
       "      <th>17</th>\n",
       "      <td>33794</td>\n",
       "      <td>100007</td>\n",
       "      <td>0.433250</td>\n",
       "      <td>Batman Begins (2005)</td>\n",
       "    </tr>\n",
       "    <tr>\n",
       "      <th>19</th>\n",
       "      <td>33794</td>\n",
       "      <td>101528</td>\n",
       "      <td>0.433250</td>\n",
       "      <td>Batman Begins (2005)</td>\n",
       "    </tr>\n",
       "    <tr>\n",
       "      <th>13</th>\n",
       "      <td>33794</td>\n",
       "      <td>45435</td>\n",
       "      <td>-0.298230</td>\n",
       "      <td>Batman Begins (2005)</td>\n",
       "    </tr>\n",
       "    <tr>\n",
       "      <th>10</th>\n",
       "      <td>33794</td>\n",
       "      <td>10849</td>\n",
       "      <td>-0.298230</td>\n",
       "      <td>Batman Begins (2005)</td>\n",
       "    </tr>\n",
       "    <tr>\n",
       "      <th>16</th>\n",
       "      <td>33794</td>\n",
       "      <td>6057</td>\n",
       "      <td>-0.298230</td>\n",
       "      <td>Batman Begins (2005)</td>\n",
       "    </tr>\n",
       "    <tr>\n",
       "      <th>15</th>\n",
       "      <td>33794</td>\n",
       "      <td>4775</td>\n",
       "      <td>-0.298282</td>\n",
       "      <td>Batman Begins (2005)</td>\n",
       "    </tr>\n",
       "    <tr>\n",
       "      <th>11</th>\n",
       "      <td>33794</td>\n",
       "      <td>147111</td>\n",
       "      <td>-0.590480</td>\n",
       "      <td>Batman Begins (2005)</td>\n",
       "    </tr>\n",
       "    <tr>\n",
       "      <th>12</th>\n",
       "      <td>33794</td>\n",
       "      <td>142009</td>\n",
       "      <td>-0.590480</td>\n",
       "      <td>Batman Begins (2005)</td>\n",
       "    </tr>\n",
       "  </tbody>\n",
       "</table>\n",
       "</div>"
      ],
      "text/plain": [
       "    movieId  userId     score                 title\n",
       "14    33794   66587  0.900135  Batman Begins (2005)\n",
       "18    33794  120842  0.879681  Batman Begins (2005)\n",
       "17    33794  100007  0.433250  Batman Begins (2005)\n",
       "19    33794  101528  0.433250  Batman Begins (2005)\n",
       "13    33794   45435 -0.298230  Batman Begins (2005)\n",
       "10    33794   10849 -0.298230  Batman Begins (2005)\n",
       "16    33794    6057 -0.298230  Batman Begins (2005)\n",
       "15    33794    4775 -0.298282  Batman Begins (2005)\n",
       "11    33794  147111 -0.590480  Batman Begins (2005)\n",
       "12    33794  142009 -0.590480  Batman Begins (2005)"
      ]
     },
     "metadata": {},
     "output_type": "display_data"
    },
    {
     "data": {
      "text/html": [
       "<div>\n",
       "<style scoped>\n",
       "    .dataframe tbody tr th:only-of-type {\n",
       "        vertical-align: middle;\n",
       "    }\n",
       "\n",
       "    .dataframe tbody tr th {\n",
       "        vertical-align: top;\n",
       "    }\n",
       "\n",
       "    .dataframe thead th {\n",
       "        text-align: right;\n",
       "    }\n",
       "</style>\n",
       "<table border=\"1\" class=\"dataframe\">\n",
       "  <thead>\n",
       "    <tr style=\"text-align: right;\">\n",
       "      <th></th>\n",
       "      <th>movieId</th>\n",
       "      <th>userId</th>\n",
       "      <th>score</th>\n",
       "      <th>title</th>\n",
       "    </tr>\n",
       "  </thead>\n",
       "  <tbody>\n",
       "    <tr>\n",
       "      <th>24</th>\n",
       "      <td>296</td>\n",
       "      <td>66587</td>\n",
       "      <td>0.545295</td>\n",
       "      <td>Pulp Fiction (1994)</td>\n",
       "    </tr>\n",
       "    <tr>\n",
       "      <th>28</th>\n",
       "      <td>296</td>\n",
       "      <td>120842</td>\n",
       "      <td>0.524842</td>\n",
       "      <td>Pulp Fiction (1994)</td>\n",
       "    </tr>\n",
       "    <tr>\n",
       "      <th>26</th>\n",
       "      <td>296</td>\n",
       "      <td>6057</td>\n",
       "      <td>0.188242</td>\n",
       "      <td>Pulp Fiction (1994)</td>\n",
       "    </tr>\n",
       "    <tr>\n",
       "      <th>20</th>\n",
       "      <td>296</td>\n",
       "      <td>10849</td>\n",
       "      <td>0.188242</td>\n",
       "      <td>Pulp Fiction (1994)</td>\n",
       "    </tr>\n",
       "    <tr>\n",
       "      <th>25</th>\n",
       "      <td>296</td>\n",
       "      <td>4775</td>\n",
       "      <td>0.188242</td>\n",
       "      <td>Pulp Fiction (1994)</td>\n",
       "    </tr>\n",
       "    <tr>\n",
       "      <th>23</th>\n",
       "      <td>296</td>\n",
       "      <td>45435</td>\n",
       "      <td>0.188242</td>\n",
       "      <td>Pulp Fiction (1994)</td>\n",
       "    </tr>\n",
       "    <tr>\n",
       "      <th>29</th>\n",
       "      <td>296</td>\n",
       "      <td>101528</td>\n",
       "      <td>0.078410</td>\n",
       "      <td>Pulp Fiction (1994)</td>\n",
       "    </tr>\n",
       "    <tr>\n",
       "      <th>27</th>\n",
       "      <td>296</td>\n",
       "      <td>100007</td>\n",
       "      <td>0.078410</td>\n",
       "      <td>Pulp Fiction (1994)</td>\n",
       "    </tr>\n",
       "    <tr>\n",
       "      <th>21</th>\n",
       "      <td>296</td>\n",
       "      <td>147111</td>\n",
       "      <td>-0.945319</td>\n",
       "      <td>Pulp Fiction (1994)</td>\n",
       "    </tr>\n",
       "    <tr>\n",
       "      <th>22</th>\n",
       "      <td>296</td>\n",
       "      <td>142009</td>\n",
       "      <td>-0.945319</td>\n",
       "      <td>Pulp Fiction (1994)</td>\n",
       "    </tr>\n",
       "  </tbody>\n",
       "</table>\n",
       "</div>"
      ],
      "text/plain": [
       "    movieId  userId     score                title\n",
       "24      296   66587  0.545295  Pulp Fiction (1994)\n",
       "28      296  120842  0.524842  Pulp Fiction (1994)\n",
       "26      296    6057  0.188242  Pulp Fiction (1994)\n",
       "20      296   10849  0.188242  Pulp Fiction (1994)\n",
       "25      296    4775  0.188242  Pulp Fiction (1994)\n",
       "23      296   45435  0.188242  Pulp Fiction (1994)\n",
       "29      296  101528  0.078410  Pulp Fiction (1994)\n",
       "27      296  100007  0.078410  Pulp Fiction (1994)\n",
       "21      296  147111 -0.945319  Pulp Fiction (1994)\n",
       "22      296  142009 -0.945319  Pulp Fiction (1994)"
      ]
     },
     "metadata": {},
     "output_type": "display_data"
    }
   ],
   "source": [
    "for idi in test_movie[0:3]:#selected anime\n",
    "    dfi=result[result['movieId']==idi]\n",
    "\n",
    "    dfi=dfi.sort_values('score',ascending=False)\n",
    "    dfi['title']=dfi['movieId'].map(mapping)\n",
    "    display(dfi)"
   ]
  },
  {
   "cell_type": "markdown",
   "id": "c0a4e08e",
   "metadata": {
    "papermill": {
     "duration": 0.012423,
     "end_time": "2024-03-18T15:01:19.861200",
     "exception": false,
     "start_time": "2024-03-18T15:01:19.848777",
     "status": "completed"
    },
    "tags": []
   },
   "source": [
    "## For each movieId, scores are different among userId!!!!"
   ]
  },
  {
   "cell_type": "code",
   "execution_count": 24,
   "id": "d906a65e",
   "metadata": {
    "execution": {
     "iopub.execute_input": "2024-03-18T15:01:19.886828Z",
     "iopub.status.busy": "2024-03-18T15:01:19.886575Z",
     "iopub.status.idle": "2024-03-18T15:01:20.008073Z",
     "shell.execute_reply": "2024-03-18T15:01:20.007183Z"
    },
    "papermill": {
     "duration": 0.136435,
     "end_time": "2024-03-18T15:01:20.009919",
     "exception": false,
     "start_time": "2024-03-18T15:01:19.873484",
     "status": "completed"
    },
    "tags": []
   },
   "outputs": [
    {
     "data": {
      "text/html": [
       "<div>\n",
       "<style scoped>\n",
       "    .dataframe tbody tr th:only-of-type {\n",
       "        vertical-align: middle;\n",
       "    }\n",
       "\n",
       "    .dataframe tbody tr th {\n",
       "        vertical-align: top;\n",
       "    }\n",
       "\n",
       "    .dataframe thead th {\n",
       "        text-align: right;\n",
       "    }\n",
       "</style>\n",
       "<table border=\"1\" class=\"dataframe\">\n",
       "  <thead>\n",
       "    <tr style=\"text-align: right;\">\n",
       "      <th></th>\n",
       "      <th>movieId</th>\n",
       "      <th>userId</th>\n",
       "      <th>score</th>\n",
       "      <th>title</th>\n",
       "    </tr>\n",
       "  </thead>\n",
       "  <tbody>\n",
       "    <tr>\n",
       "      <th>70</th>\n",
       "      <td>7254</td>\n",
       "      <td>10849</td>\n",
       "      <td>0.534312</td>\n",
       "      <td>The Butterfly Effect (2004)</td>\n",
       "    </tr>\n",
       "    <tr>\n",
       "      <th>40</th>\n",
       "      <td>5952</td>\n",
       "      <td>10849</td>\n",
       "      <td>0.534312</td>\n",
       "      <td>Lord of the Rings: The Two Towers, The (2002)</td>\n",
       "    </tr>\n",
       "    <tr>\n",
       "      <th>80</th>\n",
       "      <td>1171</td>\n",
       "      <td>10849</td>\n",
       "      <td>0.188242</td>\n",
       "      <td>Bob Roberts (1992)</td>\n",
       "    </tr>\n",
       "    <tr>\n",
       "      <th>60</th>\n",
       "      <td>2716</td>\n",
       "      <td>10849</td>\n",
       "      <td>0.188242</td>\n",
       "      <td>Ghostbusters (a.k.a. Ghost Busters) (1984)</td>\n",
       "    </tr>\n",
       "    <tr>\n",
       "      <th>30</th>\n",
       "      <td>592</td>\n",
       "      <td>10849</td>\n",
       "      <td>0.188242</td>\n",
       "      <td>Batman (1989)</td>\n",
       "    </tr>\n",
       "    <tr>\n",
       "      <th>20</th>\n",
       "      <td>296</td>\n",
       "      <td>10849</td>\n",
       "      <td>0.188242</td>\n",
       "      <td>Pulp Fiction (1994)</td>\n",
       "    </tr>\n",
       "    <tr>\n",
       "      <th>90</th>\n",
       "      <td>1270</td>\n",
       "      <td>10849</td>\n",
       "      <td>0.188242</td>\n",
       "      <td>Back to the Future (1985)</td>\n",
       "    </tr>\n",
       "    <tr>\n",
       "      <th>0</th>\n",
       "      <td>180031</td>\n",
       "      <td>10849</td>\n",
       "      <td>0.082283</td>\n",
       "      <td>The Shape of Water (2017)</td>\n",
       "    </tr>\n",
       "    <tr>\n",
       "      <th>10</th>\n",
       "      <td>33794</td>\n",
       "      <td>10849</td>\n",
       "      <td>-0.298230</td>\n",
       "      <td>Batman Begins (2005)</td>\n",
       "    </tr>\n",
       "    <tr>\n",
       "      <th>50</th>\n",
       "      <td>68157</td>\n",
       "      <td>10849</td>\n",
       "      <td>-0.579614</td>\n",
       "      <td>Inglourious Basterds (2009)</td>\n",
       "    </tr>\n",
       "  </tbody>\n",
       "</table>\n",
       "</div>"
      ],
      "text/plain": [
       "    movieId  userId     score                                          title\n",
       "70     7254   10849  0.534312                    The Butterfly Effect (2004)\n",
       "40     5952   10849  0.534312  Lord of the Rings: The Two Towers, The (2002)\n",
       "80     1171   10849  0.188242                             Bob Roberts (1992)\n",
       "60     2716   10849  0.188242     Ghostbusters (a.k.a. Ghost Busters) (1984)\n",
       "30      592   10849  0.188242                                  Batman (1989)\n",
       "20      296   10849  0.188242                            Pulp Fiction (1994)\n",
       "90     1270   10849  0.188242                      Back to the Future (1985)\n",
       "0    180031   10849  0.082283                      The Shape of Water (2017)\n",
       "10    33794   10849 -0.298230                           Batman Begins (2005)\n",
       "50    68157   10849 -0.579614                    Inglourious Basterds (2009)"
      ]
     },
     "metadata": {},
     "output_type": "display_data"
    },
    {
     "data": {
      "text/html": [
       "<div>\n",
       "<style scoped>\n",
       "    .dataframe tbody tr th:only-of-type {\n",
       "        vertical-align: middle;\n",
       "    }\n",
       "\n",
       "    .dataframe tbody tr th {\n",
       "        vertical-align: top;\n",
       "    }\n",
       "\n",
       "    .dataframe thead th {\n",
       "        text-align: right;\n",
       "    }\n",
       "</style>\n",
       "<table border=\"1\" class=\"dataframe\">\n",
       "  <thead>\n",
       "    <tr style=\"text-align: right;\">\n",
       "      <th></th>\n",
       "      <th>movieId</th>\n",
       "      <th>userId</th>\n",
       "      <th>score</th>\n",
       "      <th>title</th>\n",
       "    </tr>\n",
       "  </thead>\n",
       "  <tbody>\n",
       "    <tr>\n",
       "      <th>11</th>\n",
       "      <td>33794</td>\n",
       "      <td>147111</td>\n",
       "      <td>-0.590480</td>\n",
       "      <td>Batman Begins (2005)</td>\n",
       "    </tr>\n",
       "    <tr>\n",
       "      <th>41</th>\n",
       "      <td>5952</td>\n",
       "      <td>147111</td>\n",
       "      <td>-0.599250</td>\n",
       "      <td>Lord of the Rings: The Two Towers, The (2002)</td>\n",
       "    </tr>\n",
       "    <tr>\n",
       "      <th>71</th>\n",
       "      <td>7254</td>\n",
       "      <td>147111</td>\n",
       "      <td>-0.599250</td>\n",
       "      <td>The Butterfly Effect (2004)</td>\n",
       "    </tr>\n",
       "    <tr>\n",
       "      <th>51</th>\n",
       "      <td>68157</td>\n",
       "      <td>147111</td>\n",
       "      <td>-0.679413</td>\n",
       "      <td>Inglourious Basterds (2009)</td>\n",
       "    </tr>\n",
       "    <tr>\n",
       "      <th>21</th>\n",
       "      <td>296</td>\n",
       "      <td>147111</td>\n",
       "      <td>-0.945319</td>\n",
       "      <td>Pulp Fiction (1994)</td>\n",
       "    </tr>\n",
       "    <tr>\n",
       "      <th>31</th>\n",
       "      <td>592</td>\n",
       "      <td>147111</td>\n",
       "      <td>-0.945319</td>\n",
       "      <td>Batman (1989)</td>\n",
       "    </tr>\n",
       "    <tr>\n",
       "      <th>81</th>\n",
       "      <td>1171</td>\n",
       "      <td>147111</td>\n",
       "      <td>-0.945319</td>\n",
       "      <td>Bob Roberts (1992)</td>\n",
       "    </tr>\n",
       "    <tr>\n",
       "      <th>61</th>\n",
       "      <td>2716</td>\n",
       "      <td>147111</td>\n",
       "      <td>-0.945319</td>\n",
       "      <td>Ghostbusters (a.k.a. Ghost Busters) (1984)</td>\n",
       "    </tr>\n",
       "    <tr>\n",
       "      <th>91</th>\n",
       "      <td>1270</td>\n",
       "      <td>147111</td>\n",
       "      <td>-0.945319</td>\n",
       "      <td>Back to the Future (1985)</td>\n",
       "    </tr>\n",
       "    <tr>\n",
       "      <th>1</th>\n",
       "      <td>180031</td>\n",
       "      <td>147111</td>\n",
       "      <td>-0.953202</td>\n",
       "      <td>The Shape of Water (2017)</td>\n",
       "    </tr>\n",
       "  </tbody>\n",
       "</table>\n",
       "</div>"
      ],
      "text/plain": [
       "    movieId  userId     score                                          title\n",
       "11    33794  147111 -0.590480                           Batman Begins (2005)\n",
       "41     5952  147111 -0.599250  Lord of the Rings: The Two Towers, The (2002)\n",
       "71     7254  147111 -0.599250                    The Butterfly Effect (2004)\n",
       "51    68157  147111 -0.679413                    Inglourious Basterds (2009)\n",
       "21      296  147111 -0.945319                            Pulp Fiction (1994)\n",
       "31      592  147111 -0.945319                                  Batman (1989)\n",
       "81     1171  147111 -0.945319                             Bob Roberts (1992)\n",
       "61     2716  147111 -0.945319     Ghostbusters (a.k.a. Ghost Busters) (1984)\n",
       "91     1270  147111 -0.945319                      Back to the Future (1985)\n",
       "1    180031  147111 -0.953202                      The Shape of Water (2017)"
      ]
     },
     "metadata": {},
     "output_type": "display_data"
    },
    {
     "data": {
      "text/html": [
       "<div>\n",
       "<style scoped>\n",
       "    .dataframe tbody tr th:only-of-type {\n",
       "        vertical-align: middle;\n",
       "    }\n",
       "\n",
       "    .dataframe tbody tr th {\n",
       "        vertical-align: top;\n",
       "    }\n",
       "\n",
       "    .dataframe thead th {\n",
       "        text-align: right;\n",
       "    }\n",
       "</style>\n",
       "<table border=\"1\" class=\"dataframe\">\n",
       "  <thead>\n",
       "    <tr style=\"text-align: right;\">\n",
       "      <th></th>\n",
       "      <th>movieId</th>\n",
       "      <th>userId</th>\n",
       "      <th>score</th>\n",
       "      <th>title</th>\n",
       "    </tr>\n",
       "  </thead>\n",
       "  <tbody>\n",
       "    <tr>\n",
       "      <th>12</th>\n",
       "      <td>33794</td>\n",
       "      <td>142009</td>\n",
       "      <td>-0.590480</td>\n",
       "      <td>Batman Begins (2005)</td>\n",
       "    </tr>\n",
       "    <tr>\n",
       "      <th>42</th>\n",
       "      <td>5952</td>\n",
       "      <td>142009</td>\n",
       "      <td>-0.599250</td>\n",
       "      <td>Lord of the Rings: The Two Towers, The (2002)</td>\n",
       "    </tr>\n",
       "    <tr>\n",
       "      <th>72</th>\n",
       "      <td>7254</td>\n",
       "      <td>142009</td>\n",
       "      <td>-0.599250</td>\n",
       "      <td>The Butterfly Effect (2004)</td>\n",
       "    </tr>\n",
       "    <tr>\n",
       "      <th>52</th>\n",
       "      <td>68157</td>\n",
       "      <td>142009</td>\n",
       "      <td>-0.679413</td>\n",
       "      <td>Inglourious Basterds (2009)</td>\n",
       "    </tr>\n",
       "    <tr>\n",
       "      <th>22</th>\n",
       "      <td>296</td>\n",
       "      <td>142009</td>\n",
       "      <td>-0.945319</td>\n",
       "      <td>Pulp Fiction (1994)</td>\n",
       "    </tr>\n",
       "    <tr>\n",
       "      <th>32</th>\n",
       "      <td>592</td>\n",
       "      <td>142009</td>\n",
       "      <td>-0.945319</td>\n",
       "      <td>Batman (1989)</td>\n",
       "    </tr>\n",
       "    <tr>\n",
       "      <th>82</th>\n",
       "      <td>1171</td>\n",
       "      <td>142009</td>\n",
       "      <td>-0.945319</td>\n",
       "      <td>Bob Roberts (1992)</td>\n",
       "    </tr>\n",
       "    <tr>\n",
       "      <th>62</th>\n",
       "      <td>2716</td>\n",
       "      <td>142009</td>\n",
       "      <td>-0.945319</td>\n",
       "      <td>Ghostbusters (a.k.a. Ghost Busters) (1984)</td>\n",
       "    </tr>\n",
       "    <tr>\n",
       "      <th>92</th>\n",
       "      <td>1270</td>\n",
       "      <td>142009</td>\n",
       "      <td>-0.945319</td>\n",
       "      <td>Back to the Future (1985)</td>\n",
       "    </tr>\n",
       "    <tr>\n",
       "      <th>2</th>\n",
       "      <td>180031</td>\n",
       "      <td>142009</td>\n",
       "      <td>-0.953202</td>\n",
       "      <td>The Shape of Water (2017)</td>\n",
       "    </tr>\n",
       "  </tbody>\n",
       "</table>\n",
       "</div>"
      ],
      "text/plain": [
       "    movieId  userId     score                                          title\n",
       "12    33794  142009 -0.590480                           Batman Begins (2005)\n",
       "42     5952  142009 -0.599250  Lord of the Rings: The Two Towers, The (2002)\n",
       "72     7254  142009 -0.599250                    The Butterfly Effect (2004)\n",
       "52    68157  142009 -0.679413                    Inglourious Basterds (2009)\n",
       "22      296  142009 -0.945319                            Pulp Fiction (1994)\n",
       "32      592  142009 -0.945319                                  Batman (1989)\n",
       "82     1171  142009 -0.945319                             Bob Roberts (1992)\n",
       "62     2716  142009 -0.945319     Ghostbusters (a.k.a. Ghost Busters) (1984)\n",
       "92     1270  142009 -0.945319                      Back to the Future (1985)\n",
       "2    180031  142009 -0.953202                      The Shape of Water (2017)"
      ]
     },
     "metadata": {},
     "output_type": "display_data"
    }
   ],
   "source": [
    "for idi in test_user[0:3]:#selected user\n",
    "    dfi=result[result['userId']==idi]\n",
    "\n",
    "    dfi=dfi.sort_values('score',ascending=False)\n",
    "    dfi['title']=dfi['movieId'].map(mapping)\n",
    "    display(dfi)"
   ]
  }
 ],
 "metadata": {
  "kaggle": {
   "accelerator": "gpu",
   "dataSources": [
    {
     "datasetId": 3375918,
     "sourceId": 5872805,
     "sourceType": "datasetVersion"
    }
   ],
   "isGpuEnabled": true,
   "isInternetEnabled": true,
   "language": "python",
   "sourceType": "notebook"
  },
  "kernelspec": {
   "display_name": "Python 3",
   "language": "python",
   "name": "python3"
  },
  "language_info": {
   "codemirror_mode": {
    "name": "ipython",
    "version": 3
   },
   "file_extension": ".py",
   "mimetype": "text/x-python",
   "name": "python",
   "nbconvert_exporter": "python",
   "pygments_lexer": "ipython3",
   "version": "3.10.13"
  },
  "papermill": {
   "default_parameters": {},
   "duration": 57.154376,
   "end_time": "2024-03-18T15:01:22.693594",
   "environment_variables": {},
   "exception": null,
   "input_path": "__notebook__.ipynb",
   "output_path": "__notebook__.ipynb",
   "parameters": {},
   "start_time": "2024-03-18T15:00:25.539218",
   "version": "2.5.0"
  }
 },
 "nbformat": 4,
 "nbformat_minor": 5
}
